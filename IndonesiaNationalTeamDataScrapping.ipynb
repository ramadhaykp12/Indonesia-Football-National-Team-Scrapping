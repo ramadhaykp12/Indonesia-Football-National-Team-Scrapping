{
  "nbformat": 4,
  "nbformat_minor": 0,
  "metadata": {
    "colab": {
      "provenance": [],
      "authorship_tag": "ABX9TyPtBKYkSGCzovCWzOjkAwMg",
      "include_colab_link": true
    },
    "kernelspec": {
      "name": "python3",
      "display_name": "Python 3"
    },
    "language_info": {
      "name": "python"
    }
  },
  "cells": [
    {
      "cell_type": "markdown",
      "metadata": {
        "id": "view-in-github",
        "colab_type": "text"
      },
      "source": [
        "<a href=\"https://colab.research.google.com/github/ramadhaykp12/Infonesia-Football-National-Team-Scrapping/blob/main/IndonesiaNationalTeamDataScrapping.ipynb\" target=\"_parent\"><img src=\"https://colab.research.google.com/assets/colab-badge.svg\" alt=\"Open In Colab\"/></a>"
      ]
    },
    {
      "cell_type": "code",
      "source": [
        "from bs4 import BeautifulSoup\n",
        "import requests\n",
        "import pandas as pd"
      ],
      "metadata": {
        "id": "OZjAeO-0IF-y"
      },
      "execution_count": null,
      "outputs": []
    },
    {
      "cell_type": "code",
      "source": [
        "webpage = requests.get(\"https://www.pssi.org/national-team/mens-seniors/players\")\n",
        "soup = BeautifulSoup(webpage.content, \"html.parser\")\n"
      ],
      "metadata": {
        "id": "U3-59DOnIKwC"
      },
      "execution_count": null,
      "outputs": []
    },
    {
      "cell_type": "code",
      "source": [
        "# Get players jersey number data\n",
        "nomor = soup.find_all(attrs={\"class\": \"inline inline--bordered text-huge\"})\n",
        "nomor_list = []\n",
        "for x in nomor[1:] : \n",
        "   nomor_list.append(str(x.get_text()))"
      ],
      "metadata": {
        "id": "sQ_ynp16ILIb"
      },
      "execution_count": null,
      "outputs": []
    },
    {
      "cell_type": "code",
      "source": [
        "nomor_list"
      ],
      "metadata": {
        "colab": {
          "base_uri": "https://localhost:8080/"
        },
        "id": "l000dExQYQqy",
        "outputId": "c57dcb19-901c-4a1a-fb17-694c84c5fee3"
      },
      "execution_count": null,
      "outputs": [
        {
          "output_type": "execute_result",
          "data": {
            "text/plain": [
              "['1',\n",
              " '26',\n",
              " '19',\n",
              " '14',\n",
              " '16',\n",
              " '28',\n",
              " '30',\n",
              " '3',\n",
              " '31',\n",
              " '10',\n",
              " '6',\n",
              " '15',\n",
              " '13',\n",
              " '17',\n",
              " '8',\n",
              " '10',\n",
              " '0',\n",
              " '25',\n",
              " '7',\n",
              " '15',\n",
              " '6',\n",
              " '9',\n",
              " '18']"
            ]
          },
          "metadata": {},
          "execution_count": 38
        }
      ]
    },
    {
      "cell_type": "code",
      "source": [
        "# Get players name data\n",
        "nama_pemain = soup.find_all(attrs={\"class\": \"inline text-left text-uppercase\"})\n",
        "nama_list = []\n",
        "for x in nama_pemain[1:] : \n",
        "   nama_list.append(str(x.get_text()))"
      ],
      "metadata": {
        "id": "vZ_19GBbVrJI"
      },
      "execution_count": null,
      "outputs": []
    },
    {
      "cell_type": "code",
      "source": [
        "nama_list"
      ],
      "metadata": {
        "colab": {
          "base_uri": "https://localhost:8080/"
        },
        "id": "91A_UQjBWxFD",
        "outputId": "a3edf7fd-a410-4604-baa5-b4571c8e8191"
      },
      "execution_count": null,
      "outputs": [
        {
          "output_type": "execute_result",
          "data": {
            "text/plain": [
              "['\\nMUHAMMAD\\nADISATRYO\\n',\n",
              " '\\nSyahrul\\nFadil\\n',\n",
              " '\\nFACHRUDIN\\nWAHYUDI\\n',\n",
              " '\\nASNAWI\\nMANGKUALAM\\n',\n",
              " '\\nRIZKY\\nFEBRIANTO\\n',\n",
              " '\\nALFEANDRA\\nDEWANGGA\\n',\n",
              " '\\nELKAN\\nBAGGOTT\\n',\n",
              " '\\nEdo\\nFebriansyah\\n',\n",
              " '\\nRio\\nFahmi\\n',\n",
              " '\\nSTEFANO\\nLILIPALY\\n',\n",
              " '\\nEVAN\\nDIMAS\\n',\n",
              " '\\nSADDIL\\nRAMDANI\\n',\n",
              " '\\nRACHMAT\\nIRIANTO\\n',\n",
              " '\\nSYAHRIAN\\nABIMANYU\\n',\n",
              " '\\nWITAN\\nSULAEMAN\\n',\n",
              " '\\nEGY\\nMAULANA\\n',\n",
              " '\\nTerens\\nPuhiri\\n',\n",
              " '\\nIRFAN\\nJAYA\\n',\n",
              " '\\nMARSELINO\\nFERDINAN\\n',\n",
              " '\\nRICKY\\nKAMBUAYA\\n',\n",
              " '\\nMarc\\nKlok\\n',\n",
              " '\\nMUHAMAMAD\\nRAFLI\\n',\n",
              " '\\nIRFAN\\nJAUHARI\\n']"
            ]
          },
          "metadata": {},
          "execution_count": 33
        }
      ]
    },
    {
      "cell_type": "code",
      "source": [
        "# Menghapus \\n, \\t, dan spasi ekstra\n",
        "cleaned_nomor = [ \" \".join(item.split()) for item in nomor_list ]\n",
        "cleaned_nama = [ \" \".join(item.split()) for item in nama_list ]\n",
        "print(cleaned_nomor)\n",
        "print(cleaned_nama)"
      ],
      "metadata": {
        "colab": {
          "base_uri": "https://localhost:8080/"
        },
        "id": "D8Idcw-EMvFJ",
        "outputId": "cf9d44c3-8860-4a3c-ef89-a49cfade354f"
      },
      "execution_count": null,
      "outputs": [
        {
          "output_type": "stream",
          "name": "stdout",
          "text": [
            "['1', '26', '19', '14', '16', '28', '30', '3', '31', '10', '6', '15', '13', '17', '8', '10', '0', '25', '7', '15', '6', '9', '18']\n",
            "['MUHAMMAD ADISATRYO', 'Syahrul Fadil', 'FACHRUDIN WAHYUDI', 'ASNAWI MANGKUALAM', 'RIZKY FEBRIANTO', 'ALFEANDRA DEWANGGA', 'ELKAN BAGGOTT', 'Edo Febriansyah', 'Rio Fahmi', 'STEFANO LILIPALY', 'EVAN DIMAS', 'SADDIL RAMDANI', 'RACHMAT IRIANTO', 'SYAHRIAN ABIMANYU', 'WITAN SULAEMAN', 'EGY MAULANA', 'Terens Puhiri', 'IRFAN JAYA', 'MARSELINO FERDINAN', 'RICKY KAMBUAYA', 'Marc Klok', 'MUHAMAMAD RAFLI', 'IRFAN JAUHARI']\n"
          ]
        }
      ]
    },
    {
      "cell_type": "code",
      "source": [
        "data = {\"Nama Pemain\" : cleaned_nama, \"Nomor Punggung\" : cleaned_nomor}"
      ],
      "metadata": {
        "id": "l5LIv4HWKp7i"
      },
      "execution_count": null,
      "outputs": []
    },
    {
      "cell_type": "code",
      "source": [
        "df = pd.DataFrame.from_dict(data)"
      ],
      "metadata": {
        "id": "odrQXgI8K8p4"
      },
      "execution_count": null,
      "outputs": []
    },
    {
      "cell_type": "code",
      "source": [
        "df"
      ],
      "metadata": {
        "colab": {
          "base_uri": "https://localhost:8080/",
          "height": 770
        },
        "id": "ZTwhIYDQK_It",
        "outputId": "eeb618d6-175d-46d0-f364-3e80f5556095"
      },
      "execution_count": null,
      "outputs": [
        {
          "output_type": "execute_result",
          "data": {
            "text/plain": [
              "           Nama Pemain Nomor Punggung\n",
              "0   MUHAMMAD ADISATRYO              1\n",
              "1        Syahrul Fadil             26\n",
              "2    FACHRUDIN WAHYUDI             19\n",
              "3    ASNAWI MANGKUALAM             14\n",
              "4      RIZKY FEBRIANTO             16\n",
              "5   ALFEANDRA DEWANGGA             28\n",
              "6        ELKAN BAGGOTT             30\n",
              "7      Edo Febriansyah              3\n",
              "8            Rio Fahmi             31\n",
              "9     STEFANO LILIPALY             10\n",
              "10          EVAN DIMAS              6\n",
              "11      SADDIL RAMDANI             15\n",
              "12     RACHMAT IRIANTO             13\n",
              "13   SYAHRIAN ABIMANYU             17\n",
              "14      WITAN SULAEMAN              8\n",
              "15         EGY MAULANA             10\n",
              "16       Terens Puhiri              0\n",
              "17          IRFAN JAYA             25\n",
              "18  MARSELINO FERDINAN              7\n",
              "19      RICKY KAMBUAYA             15\n",
              "20           Marc Klok              6\n",
              "21     MUHAMAMAD RAFLI              9\n",
              "22       IRFAN JAUHARI             18"
            ],
            "text/html": [
              "\n",
              "  <div id=\"df-c5842bb5-880d-4099-b67b-cb9a9cc5ad5f\">\n",
              "    <div class=\"colab-df-container\">\n",
              "      <div>\n",
              "<style scoped>\n",
              "    .dataframe tbody tr th:only-of-type {\n",
              "        vertical-align: middle;\n",
              "    }\n",
              "\n",
              "    .dataframe tbody tr th {\n",
              "        vertical-align: top;\n",
              "    }\n",
              "\n",
              "    .dataframe thead th {\n",
              "        text-align: right;\n",
              "    }\n",
              "</style>\n",
              "<table border=\"1\" class=\"dataframe\">\n",
              "  <thead>\n",
              "    <tr style=\"text-align: right;\">\n",
              "      <th></th>\n",
              "      <th>Nama Pemain</th>\n",
              "      <th>Nomor Punggung</th>\n",
              "    </tr>\n",
              "  </thead>\n",
              "  <tbody>\n",
              "    <tr>\n",
              "      <th>0</th>\n",
              "      <td>MUHAMMAD ADISATRYO</td>\n",
              "      <td>1</td>\n",
              "    </tr>\n",
              "    <tr>\n",
              "      <th>1</th>\n",
              "      <td>Syahrul Fadil</td>\n",
              "      <td>26</td>\n",
              "    </tr>\n",
              "    <tr>\n",
              "      <th>2</th>\n",
              "      <td>FACHRUDIN WAHYUDI</td>\n",
              "      <td>19</td>\n",
              "    </tr>\n",
              "    <tr>\n",
              "      <th>3</th>\n",
              "      <td>ASNAWI MANGKUALAM</td>\n",
              "      <td>14</td>\n",
              "    </tr>\n",
              "    <tr>\n",
              "      <th>4</th>\n",
              "      <td>RIZKY FEBRIANTO</td>\n",
              "      <td>16</td>\n",
              "    </tr>\n",
              "    <tr>\n",
              "      <th>5</th>\n",
              "      <td>ALFEANDRA DEWANGGA</td>\n",
              "      <td>28</td>\n",
              "    </tr>\n",
              "    <tr>\n",
              "      <th>6</th>\n",
              "      <td>ELKAN BAGGOTT</td>\n",
              "      <td>30</td>\n",
              "    </tr>\n",
              "    <tr>\n",
              "      <th>7</th>\n",
              "      <td>Edo Febriansyah</td>\n",
              "      <td>3</td>\n",
              "    </tr>\n",
              "    <tr>\n",
              "      <th>8</th>\n",
              "      <td>Rio Fahmi</td>\n",
              "      <td>31</td>\n",
              "    </tr>\n",
              "    <tr>\n",
              "      <th>9</th>\n",
              "      <td>STEFANO LILIPALY</td>\n",
              "      <td>10</td>\n",
              "    </tr>\n",
              "    <tr>\n",
              "      <th>10</th>\n",
              "      <td>EVAN DIMAS</td>\n",
              "      <td>6</td>\n",
              "    </tr>\n",
              "    <tr>\n",
              "      <th>11</th>\n",
              "      <td>SADDIL RAMDANI</td>\n",
              "      <td>15</td>\n",
              "    </tr>\n",
              "    <tr>\n",
              "      <th>12</th>\n",
              "      <td>RACHMAT IRIANTO</td>\n",
              "      <td>13</td>\n",
              "    </tr>\n",
              "    <tr>\n",
              "      <th>13</th>\n",
              "      <td>SYAHRIAN ABIMANYU</td>\n",
              "      <td>17</td>\n",
              "    </tr>\n",
              "    <tr>\n",
              "      <th>14</th>\n",
              "      <td>WITAN SULAEMAN</td>\n",
              "      <td>8</td>\n",
              "    </tr>\n",
              "    <tr>\n",
              "      <th>15</th>\n",
              "      <td>EGY MAULANA</td>\n",
              "      <td>10</td>\n",
              "    </tr>\n",
              "    <tr>\n",
              "      <th>16</th>\n",
              "      <td>Terens Puhiri</td>\n",
              "      <td>0</td>\n",
              "    </tr>\n",
              "    <tr>\n",
              "      <th>17</th>\n",
              "      <td>IRFAN JAYA</td>\n",
              "      <td>25</td>\n",
              "    </tr>\n",
              "    <tr>\n",
              "      <th>18</th>\n",
              "      <td>MARSELINO FERDINAN</td>\n",
              "      <td>7</td>\n",
              "    </tr>\n",
              "    <tr>\n",
              "      <th>19</th>\n",
              "      <td>RICKY KAMBUAYA</td>\n",
              "      <td>15</td>\n",
              "    </tr>\n",
              "    <tr>\n",
              "      <th>20</th>\n",
              "      <td>Marc Klok</td>\n",
              "      <td>6</td>\n",
              "    </tr>\n",
              "    <tr>\n",
              "      <th>21</th>\n",
              "      <td>MUHAMAMAD RAFLI</td>\n",
              "      <td>9</td>\n",
              "    </tr>\n",
              "    <tr>\n",
              "      <th>22</th>\n",
              "      <td>IRFAN JAUHARI</td>\n",
              "      <td>18</td>\n",
              "    </tr>\n",
              "  </tbody>\n",
              "</table>\n",
              "</div>\n",
              "      <button class=\"colab-df-convert\" onclick=\"convertToInteractive('df-c5842bb5-880d-4099-b67b-cb9a9cc5ad5f')\"\n",
              "              title=\"Convert this dataframe to an interactive table.\"\n",
              "              style=\"display:none;\">\n",
              "        \n",
              "  <svg xmlns=\"http://www.w3.org/2000/svg\" height=\"24px\"viewBox=\"0 0 24 24\"\n",
              "       width=\"24px\">\n",
              "    <path d=\"M0 0h24v24H0V0z\" fill=\"none\"/>\n",
              "    <path d=\"M18.56 5.44l.94 2.06.94-2.06 2.06-.94-2.06-.94-.94-2.06-.94 2.06-2.06.94zm-11 1L8.5 8.5l.94-2.06 2.06-.94-2.06-.94L8.5 2.5l-.94 2.06-2.06.94zm10 10l.94 2.06.94-2.06 2.06-.94-2.06-.94-.94-2.06-.94 2.06-2.06.94z\"/><path d=\"M17.41 7.96l-1.37-1.37c-.4-.4-.92-.59-1.43-.59-.52 0-1.04.2-1.43.59L10.3 9.45l-7.72 7.72c-.78.78-.78 2.05 0 2.83L4 21.41c.39.39.9.59 1.41.59.51 0 1.02-.2 1.41-.59l7.78-7.78 2.81-2.81c.8-.78.8-2.07 0-2.86zM5.41 20L4 18.59l7.72-7.72 1.47 1.35L5.41 20z\"/>\n",
              "  </svg>\n",
              "      </button>\n",
              "      \n",
              "  <style>\n",
              "    .colab-df-container {\n",
              "      display:flex;\n",
              "      flex-wrap:wrap;\n",
              "      gap: 12px;\n",
              "    }\n",
              "\n",
              "    .colab-df-convert {\n",
              "      background-color: #E8F0FE;\n",
              "      border: none;\n",
              "      border-radius: 50%;\n",
              "      cursor: pointer;\n",
              "      display: none;\n",
              "      fill: #1967D2;\n",
              "      height: 32px;\n",
              "      padding: 0 0 0 0;\n",
              "      width: 32px;\n",
              "    }\n",
              "\n",
              "    .colab-df-convert:hover {\n",
              "      background-color: #E2EBFA;\n",
              "      box-shadow: 0px 1px 2px rgba(60, 64, 67, 0.3), 0px 1px 3px 1px rgba(60, 64, 67, 0.15);\n",
              "      fill: #174EA6;\n",
              "    }\n",
              "\n",
              "    [theme=dark] .colab-df-convert {\n",
              "      background-color: #3B4455;\n",
              "      fill: #D2E3FC;\n",
              "    }\n",
              "\n",
              "    [theme=dark] .colab-df-convert:hover {\n",
              "      background-color: #434B5C;\n",
              "      box-shadow: 0px 1px 3px 1px rgba(0, 0, 0, 0.15);\n",
              "      filter: drop-shadow(0px 1px 2px rgba(0, 0, 0, 0.3));\n",
              "      fill: #FFFFFF;\n",
              "    }\n",
              "  </style>\n",
              "\n",
              "      <script>\n",
              "        const buttonEl =\n",
              "          document.querySelector('#df-c5842bb5-880d-4099-b67b-cb9a9cc5ad5f button.colab-df-convert');\n",
              "        buttonEl.style.display =\n",
              "          google.colab.kernel.accessAllowed ? 'block' : 'none';\n",
              "\n",
              "        async function convertToInteractive(key) {\n",
              "          const element = document.querySelector('#df-c5842bb5-880d-4099-b67b-cb9a9cc5ad5f');\n",
              "          const dataTable =\n",
              "            await google.colab.kernel.invokeFunction('convertToInteractive',\n",
              "                                                     [key], {});\n",
              "          if (!dataTable) return;\n",
              "\n",
              "          const docLinkHtml = 'Like what you see? Visit the ' +\n",
              "            '<a target=\"_blank\" href=https://colab.research.google.com/notebooks/data_table.ipynb>data table notebook</a>'\n",
              "            + ' to learn more about interactive tables.';\n",
              "          element.innerHTML = '';\n",
              "          dataTable['output_type'] = 'display_data';\n",
              "          await google.colab.output.renderOutput(dataTable, element);\n",
              "          const docLink = document.createElement('div');\n",
              "          docLink.innerHTML = docLinkHtml;\n",
              "          element.appendChild(docLink);\n",
              "        }\n",
              "      </script>\n",
              "    </div>\n",
              "  </div>\n",
              "  "
            ]
          },
          "metadata": {},
          "execution_count": 37
        }
      ]
    }
  ]
}